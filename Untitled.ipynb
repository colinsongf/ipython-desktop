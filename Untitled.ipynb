{
 "cells": [],
 "metadata": {
  "signature": "sha256:84468115fdf68302742c7b4c127c87e0712f89dcc87d7ca2dc21431fadf3fc2f"
 },
 "nbformat": 4,
 "nbformat_minor": 0
}