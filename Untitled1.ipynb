{
 "metadata": {
  "name": "",
  "signature": "sha256:d5756b701085528db2fa047be8cb9f2a67d1a0e0a1dbb75f0f15fcc79a5712ec"
 },
 "nbformat": 3,
 "nbformat_minor": 0,
 "worksheets": []
}